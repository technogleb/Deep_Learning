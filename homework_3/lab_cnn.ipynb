{
 "cells": [
  {
   "cell_type": "markdown",
   "metadata": {
    "colab_type": "text",
    "id": "ysn2DQxFsov5"
   },
   "source": [
    "# Семинар 3. Обучение сверточных нейросетей в Pytorch\n",
    "\n",
    "На этом семинаре мы будем обучать LeNet-5 на данных MNIST (и не только :). Мы наконец перестанем реализовывать все самостоятельно и будем пользоваться готовым функционалом pytorch.\n",
    "\n",
    "Для начала ознакомимся с парой примеров обучения модели:\n",
    "* [Пример 1](https://github.com/yunjey/pytorch-tutorial/blob/master/tutorials/02-intermediate/convolutional_neural_network/main.py)\n",
    "* [Пример 2](https://github.com/jcjohnson/pytorch-examples/blob/master/nn/two_layer_net_nn.py)"
   ]
  },
  {
   "cell_type": "code",
   "execution_count": 0,
   "metadata": {
    "colab": {
     "autoexec": {
      "startup": false,
      "wait_interval": 0
     }
    },
    "colab_type": "code",
    "collapsed": true,
    "id": "0UNj7paq3Ec2"
   },
   "outputs": [],
   "source": [
    "in_google_collab = True"
   ]
  },
  {
   "cell_type": "code",
   "execution_count": 0,
   "metadata": {
    "colab": {
     "autoexec": {
      "startup": false,
      "wait_interval": 0
     }
    },
    "colab_type": "code",
    "collapsed": true,
    "id": "MZgH-smmsvGz"
   },
   "outputs": [],
   "source": [
    "if in_google_collab:\n",
    "    # http://pytorch.org/\n",
    "    from os import path\n",
    "    from wheel.pep425tags import get_abbr_impl, get_impl_ver, get_abi_tag\n",
    "    platform = '{}{}-{}'.format(get_abbr_impl(), get_impl_ver(), get_abi_tag())\n",
    "  \n",
    "    accelerator = 'cu80' if path.exists('/opt/bin/nvidia-smi') else 'cpu'\n",
    "  \n",
    "    !pip install -q http://download.pytorch.org/whl/{accelerator}/torch-0.3.0.post4-{platform}-linux_x86_64.whl torchvision\n",
    "    import torch"
   ]
  },
  {
   "cell_type": "markdown",
   "metadata": {
    "colab_type": "text",
    "id": "SRbMRTZwsov-"
   },
   "source": [
    "### Загрузка данных в pytorch"
   ]
  },
  {
   "cell_type": "code",
   "execution_count": 0,
   "metadata": {
    "colab": {
     "autoexec": {
      "startup": false,
      "wait_interval": 0
     }
    },
    "colab_type": "code",
    "collapsed": true,
    "id": "ykPjIdTxsowC"
   },
   "outputs": [],
   "source": [
    "import torch \n",
    "import torch.nn as nn\n",
    "from torch.autograd import Variable\n",
    "import torch.nn.functional as F\n",
    "import numpy as np\n",
    "import torch.utils.data"
   ]
  },
  {
   "cell_type": "code",
   "execution_count": 0,
   "metadata": {
    "colab": {
     "autoexec": {
      "startup": false,
      "wait_interval": 0
     }
    },
    "colab_type": "code",
    "collapsed": true,
    "id": "Cjh0SiRcsowN"
   },
   "outputs": [],
   "source": [
    "from matplotlib import pyplot as plt\n",
    "%matplotlib inline"
   ]
  },
  {
   "cell_type": "code",
   "execution_count": 0,
   "metadata": {
    "colab": {
     "autoexec": {
      "startup": false,
      "wait_interval": 0
     }
    },
    "colab_type": "code",
    "collapsed": true,
    "id": "DE3440VXzM_X"
   },
   "outputs": [],
   "source": [
    "use_cuda = True"
   ]
  },
  {
   "cell_type": "markdown",
   "metadata": {
    "colab_type": "text",
    "id": "Vqh5nflzsowU"
   },
   "source": [
    "В этот раз мы будем работать MNIST: он отличается от digits разрещением изображений (28x28 вместо 8x8) и числом объектов (60000 в обучении вместо 1797). \n",
    "\n",
    "В pytorch есть своя обертка, позволяющая скачивать MNIST, но нам будет удобнее скачать его самостоятельно."
   ]
  },
  {
   "cell_type": "code",
   "execution_count": 6,
   "metadata": {
    "colab": {
     "autoexec": {
      "startup": false,
      "wait_interval": 0
     },
     "base_uri": "https://localhost:8080/",
     "height": 72,
     "output_extras": [
      {
       "item_id": 1
      },
      {
       "item_id": 2
      }
     ],
     "resources": {
      "http://localhost:8080/nbextensions/google.colab/files.js": {
       "data": "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",
       "headers": [
        [
         "content-type",
         "application/javascript"
        ]
       ],
       "ok": true,
       "status": 200,
       "status_text": ""
      }
     }
    },
    "colab_type": "code",
    "executionInfo": {
     "elapsed": 10643,
     "status": "ok",
     "timestamp": 1522700793642,
     "user": {
      "displayName": "Глеб С",
      "photoUrl": "https://lh3.googleusercontent.com/a/default-user=s128",
      "userId": "112163620594161855780"
     },
     "user_tz": -180
    },
    "id": "Z6tNpkrQtAYM",
    "outputId": "a0ed8b63-4c59-40af-f4d8-d00f7fd430cf"
   },
   "outputs": [
    {
     "data": {
      "text/html": [
       "\n",
       "     <input type=\"file\" id=\"files-256cc59d-ddd5-450c-9b93-ad00917b70d8\" name=\"files[]\" multiple disabled />\n",
       "     <output id=\"result-256cc59d-ddd5-450c-9b93-ad00917b70d8\">\n",
       "      Upload widget is only available when the cell has been executed in the\n",
       "      current browser session. Please rerun this cell to enable.\n",
       "      </output>\n",
       "      <script src=\"/nbextensions/google.colab/files.js\"></script> "
      ],
      "text/plain": [
       "<IPython.core.display.HTML object>"
      ]
     },
     "metadata": {
      "tags": []
     },
     "output_type": "display_data"
    },
    {
     "name": "stdout",
     "output_type": "stream",
     "text": [
      "Saving util.py to util.py\n"
     ]
    }
   ],
   "source": [
    "if in_google_collab:\n",
    "  \n",
    "  from google.colab import files\n",
    "  \n",
    "  uploaded = files.upload()"
   ]
  },
  {
   "cell_type": "code",
   "execution_count": 0,
   "metadata": {
    "colab": {
     "autoexec": {
      "startup": false,
      "wait_interval": 0
     }
    },
    "colab_type": "code",
    "collapsed": true,
    "id": "TQn_6UwzsowV"
   },
   "outputs": [],
   "source": [
    "from util import load_mnist"
   ]
  },
  {
   "cell_type": "code",
   "execution_count": 9,
   "metadata": {
    "colab": {
     "autoexec": {
      "startup": false,
      "wait_interval": 0
     },
     "base_uri": "https://localhost:8080/",
     "height": 84,
     "output_extras": [
      {
       "item_id": 3
      }
     ]
    },
    "colab_type": "code",
    "executionInfo": {
     "elapsed": 1627,
     "status": "ok",
     "timestamp": 1522700833410,
     "user": {
      "displayName": "Глеб С",
      "photoUrl": "https://lh3.googleusercontent.com/a/default-user=s128",
      "userId": "112163620594161855780"
     },
     "user_tz": -180
    },
    "id": "jGl_oQN4sowb",
    "outputId": "f6ff015f-37ea-420e-a4e9-9ddf158b3dcc"
   },
   "outputs": [
    {
     "name": "stdout",
     "output_type": "stream",
     "text": [
      "Downloading train-images-idx3-ubyte.gz\n",
      "Downloading train-labels-idx1-ubyte.gz\n",
      "Downloading t10k-images-idx3-ubyte.gz\n",
      "Downloading t10k-labels-idx1-ubyte.gz\n"
     ]
    }
   ],
   "source": [
    "X_train, y_train, X_test, y_test = load_mnist()"
   ]
  },
  {
   "cell_type": "markdown",
   "metadata": {
    "colab_type": "text",
    "id": "m6dGgf6Csowh"
   },
   "source": [
    "Помимо обучающей и контрольной, нам понадобится валидационная выборка, чтобы настраивать гиперпараметры. Ее можно отделить от обучающей выборки (например, 25% = 15000 объектов). Однако модель несколько долго обучается даже на 75% обучающей выборки (несколько минут), что не очень хорошо для семинара. Поэтому для валидационных целей предлагается обучающую выборку также сжать до 15000 объектов. Финальную модель будем обучать по всей выборке."
   ]
  },
  {
   "cell_type": "code",
   "execution_count": 55,
   "metadata": {
    "colab": {
     "autoexec": {
      "startup": false,
      "wait_interval": 0
     },
     "base_uri": "https://localhost:8080/",
     "height": 34,
     "output_extras": [
      {
       "item_id": 1
      }
     ]
    },
    "colab_type": "code",
    "executionInfo": {
     "elapsed": 874,
     "status": "ok",
     "timestamp": 1522710037939,
     "user": {
      "displayName": "Глеб С",
      "photoUrl": "https://lh3.googleusercontent.com/a/default-user=s128",
      "userId": "112163620594161855780"
     },
     "user_tz": -180
    },
    "id": "uVoNcc3-sowj",
    "outputId": "5b44d15b-c468-48eb-c655-edfb0cd279c8"
   },
   "outputs": [
    {
     "data": {
      "text/plain": [
       "(60000, 1, 28, 28)"
      ]
     },
     "execution_count": 55,
     "metadata": {
      "tags": []
     },
     "output_type": "execute_result"
    }
   ],
   "source": [
    "from sklearn.model_selection import train_test_split\n",
    "\n",
    "# shuffle data\n",
    "np.random.seed(0)\n",
    "idxs = np.random.permutation(np.arange(X_train.shape[0]))\n",
    "X_train, y_train = X_train[idxs], y_train[idxs]\n",
    "                            \n",
    "X_train.shape"
   ]
  },
  {
   "cell_type": "markdown",
   "metadata": {
    "colab_type": "text",
    "id": "vPwKsEuxsows"
   },
   "source": [
    "В pytorch есть удобный класс для генерации батчей - DataLoader. Ему на вход надо подать объект класса TensorDataset, слудащий оберткой над матрицами данных."
   ]
  },
  {
   "cell_type": "code",
   "execution_count": 0,
   "metadata": {
    "colab": {
     "autoexec": {
      "startup": false,
      "wait_interval": 0
     }
    },
    "colab_type": "code",
    "collapsed": true,
    "id": "K9V0muDBsowu"
   },
   "outputs": [],
   "source": [
    "def get_loader(X, y, batch_size=64):\n",
    "    train = torch.utils.data.TensorDataset(torch.from_numpy(X).float(), \n",
    "                                       torch.from_numpy(y))\n",
    "    train_loader = torch.utils.data.DataLoader(train, \n",
    "                                               batch_size=batch_size)\n",
    "    return train_loader\n",
    "\n",
    "# for final model:\n",
    "train_loader_full = get_loader(X_train, y_train) \n",
    "test_loader = get_loader(X_test, y_test)\n",
    "# for validation purposes:\n",
    "train_loader = get_loader(X_train[:15000], y_train[:15000])\n",
    "val_loader = get_loader(X_train[15000:30000], y_train[15000:30000])"
   ]
  },
  {
   "cell_type": "code",
   "execution_count": 57,
   "metadata": {
    "colab": {
     "autoexec": {
      "startup": false,
      "wait_interval": 0
     },
     "base_uri": "https://localhost:8080/",
     "height": 34,
     "output_extras": [
      {
       "item_id": 1
      }
     ]
    },
    "colab_type": "code",
    "executionInfo": {
     "elapsed": 644,
     "status": "ok",
     "timestamp": 1522710047621,
     "user": {
      "displayName": "Глеб С",
      "photoUrl": "https://lh3.googleusercontent.com/a/default-user=s128",
      "userId": "112163620594161855780"
     },
     "user_tz": -180
    },
    "id": "FmvGlqt7sowx",
    "outputId": "f2f66fed-45bf-45ef-f290-e1dab26142f4"
   },
   "outputs": [
    {
     "data": {
      "text/plain": [
       "torch.Size([15000, 1, 28, 28])"
      ]
     },
     "execution_count": 57,
     "metadata": {
      "tags": []
     },
     "output_type": "execute_result"
    }
   ],
   "source": [
    "# check number of objects\n",
    "val_loader.dataset.data_tensor.shape"
   ]
  },
  {
   "cell_type": "markdown",
   "metadata": {
    "colab_type": "text",
    "id": "wQ4gtx4Hsow2"
   },
   "source": [
    "### Задание модели LeNet-5\n",
    "\n",
    "Сверточный слой (из презентации Антона Осокина):\n",
    "![Слайд про свертки из презентации Антона Осокина](https://github.com/nadiinchi/dl_labs/raw/master/convolution.png)"
   ]
  },
  {
   "cell_type": "markdown",
   "metadata": {
    "colab_type": "text",
    "id": "3zAp91pzsow2"
   },
   "source": [
    "Нам надо реализовать LeNet-5:\n",
    "\n",
    "![Архитектура LeNet-5](https://cdnpythonmachinelearning.azureedge.net/wp-content/uploads/2017/09/lenet-5-825x285.png?x64257)"
   ]
  },
  {
   "cell_type": "markdown",
   "metadata": {
    "colab_type": "text",
    "id": "w18OOuEzsow4"
   },
   "source": [
    "Соберите нейросеть в соответствии с изображениями и примерами кода, которые были даны выше. В качестве нелинейности используйте ReLU (после всех сверточных и полносвязных слоев). Кроме того, нейросеть должна поддерживать увеличение числа сверток во всех сверточных слоях в k раз."
   ]
  },
  {
   "cell_type": "code",
   "execution_count": 0,
   "metadata": {
    "colab": {
     "autoexec": {
      "startup": false,
      "wait_interval": 0
     }
    },
    "colab_type": "code",
    "collapsed": true,
    "id": "aJEzexq7sow5"
   },
   "outputs": [],
   "source": [
    "class CNN(nn.Module):\n",
    "    def __init__(self, k=1, fc_one=False):\n",
    "        super(CNN, self).__init__()\n",
    "        ### your code here: define layers\n",
    "        self.fc_one = fc_one\n",
    "        self.conv1 = nn.Conv2d(1, 6*k, 5)\n",
    "        self.conv2 = nn.Conv2d(6*k, 16*k, 5)\n",
    "        self.fc1 = nn.Linear(16*4*4*k, 120)\n",
    "        self.fc2 = nn.Linear(120, 84)\n",
    "        self.fc3 = nn.Linear(84, 10)\n",
    "        if self.fc_one:\n",
    "            self.fc_one = nn.Linear(16*4*4*k, 10)\n",
    "        \n",
    "\n",
    "    def forward(self, x):\n",
    "        ### your code here: transform x using layers\n",
    "        if not self.fc_one:\n",
    "            out = F.relu(self.conv1(x))\n",
    "            out = F.max_pool2d(out, 2)\n",
    "            out = F.relu(self.conv2(out))\n",
    "            out = F.max_pool2d(out, 2)\n",
    "            out = out.view(out.size(0), -1)\n",
    "            out = F.relu(self.fc1(out))\n",
    "            out = F.relu(self.fc2(out))\n",
    "            out = self.fc3(out)\n",
    "        else:\n",
    "            out = F.relu(self.conv1(x))\n",
    "            out = F.max_pool2d(out, 2)\n",
    "            out = F.relu(self.conv2(out))\n",
    "            out = F.max_pool2d(out, 2)\n",
    "            out = out.view(out.size(0), -1)\n",
    "            out = self.fc_one(out)\n",
    "        return out"
   ]
  },
  {
   "cell_type": "markdown",
   "metadata": {
    "colab_type": "text",
    "id": "NK__6aOdsow8"
   },
   "source": [
    "Посчитаем параметры нейросети:"
   ]
  },
  {
   "cell_type": "code",
   "execution_count": 0,
   "metadata": {
    "colab": {
     "autoexec": {
      "startup": false,
      "wait_interval": 0
     }
    },
    "colab_type": "code",
    "collapsed": true,
    "id": "czGBJdG_sow-"
   },
   "outputs": [],
   "source": [
    "cnn = CNN()"
   ]
  },
  {
   "cell_type": "code",
   "execution_count": 60,
   "metadata": {
    "colab": {
     "autoexec": {
      "startup": false,
      "wait_interval": 0
     },
     "base_uri": "https://localhost:8080/",
     "height": 34,
     "output_extras": [
      {
       "item_id": 1
      }
     ]
    },
    "colab_type": "code",
    "executionInfo": {
     "elapsed": 601,
     "status": "ok",
     "timestamp": 1522710109160,
     "user": {
      "displayName": "Глеб С",
      "photoUrl": "https://lh3.googleusercontent.com/a/default-user=s128",
      "userId": "112163620594161855780"
     },
     "user_tz": -180
    },
    "id": "nDGweB-KsoxB",
    "outputId": "3da7165c-566b-418a-d1e1-c0794f3ab620"
   },
   "outputs": [
    {
     "data": {
      "text/plain": [
       "44426"
      ]
     },
     "execution_count": 60,
     "metadata": {
      "tags": []
     },
     "output_type": "execute_result"
    }
   ],
   "source": [
    "def count_parameters(model):\n",
    "    return sum(param.data.numpy().size for param \\\n",
    "               in model.parameters() if param.requires_grad)\n",
    "\n",
    "count_parameters(cnn)"
   ]
  },
  {
   "cell_type": "markdown",
   "metadata": {
    "colab_type": "text",
    "id": "IO113JktsoxH"
   },
   "source": [
    "### Обучение нейросети"
   ]
  },
  {
   "cell_type": "markdown",
   "metadata": {
    "colab_type": "text",
    "id": "B7MHrs4PsoxK"
   },
   "source": [
    "Определим функцию потерь:"
   ]
  },
  {
   "cell_type": "code",
   "execution_count": 0,
   "metadata": {
    "colab": {
     "autoexec": {
      "startup": false,
      "wait_interval": 0
     }
    },
    "colab_type": "code",
    "collapsed": true,
    "id": "wm_zqjSGsoxK"
   },
   "outputs": [],
   "source": [
    "criterion = nn.CrossEntropyLoss() # loss includes softmax"
   ]
  },
  {
   "cell_type": "markdown",
   "metadata": {
    "colab_type": "text",
    "id": "QfmuscpBsoxO"
   },
   "source": [
    "Во время обучения модели удобно контролировать качество и на обучении, и на контроле (валидации) - возникает дублирующий код. Поэтому мы вынесем в отдельную функцию оценку модели, и в отдельную функцию - эпоху обучения. Это позволит также честно оценивать значение критерия качества на всей обучающей выборке по окончании эпохи (а не усреднять значения на минибатчах).\n",
    "\n",
    "В прототипах указано про train и eval mode: в нашем случае они не нужны (были бы нужны, если бы мы использовали дропаут или батч-нормализацию, к примеру). Но чтобы вы могли использовать этот код в будущем, лучше указывать переключение режима."
   ]
  },
  {
   "cell_type": "code",
   "execution_count": 0,
   "metadata": {
    "colab": {
     "autoexec": {
      "startup": false,
      "wait_interval": 0
     }
    },
    "colab_type": "code",
    "collapsed": true,
    "id": "pMII9wSnsoxP"
   },
   "outputs": [],
   "source": [
    "def train_epoch(model, optimizer, train_loader):\n",
    "    \"\"\"\n",
    "    for each batch \n",
    "    performs forward and backward pass and parameters update \n",
    "    \n",
    "    Input:\n",
    "    model: instance of model (example defined above)\n",
    "    optimizer: instance of optimizer (defined above)\n",
    "    train_loader: instance of DataLoader\n",
    "    \n",
    "    Returns:\n",
    "    nothing\n",
    "    \n",
    "    Do not forget to set net to train mode!\n",
    "    \"\"\"\n",
    "    ### your code here\n",
    "    model.train()\n",
    "    for i, (images, labels) in enumerate(train_loader):\n",
    "        images = Variable(images)\n",
    "        labels = Variable(labels)\n",
    "        if torch.cuda.is_available() and use_cuda:\n",
    "            images = images.cuda()\n",
    "            labels = labels.cuda()\n",
    "        \n",
    "        # Forward + Backward + Optimize\n",
    "        optimizer.zero_grad()\n",
    "        outputs = cnn(images)\n",
    "        loss = criterion(outputs, labels)\n",
    "        loss.backward()\n",
    "        optimizer.step()\n",
    "    \n",
    "\n",
    "def evaluate_loss_acc(loader, model):\n",
    "    \"\"\"\n",
    "    Evaluates loss and accuracy on the whole dataset\n",
    "    \n",
    "    Input:\n",
    "    loader:  instance of DataLoader\n",
    "    model: instance of model (examle defined above)\n",
    "    \n",
    "    Do not forget to set net to eval mode!\n",
    "    \"\"\"\n",
    "    ### your code here\n",
    "    model.eval()\n",
    "    correct = 0\n",
    "    total = 0\n",
    "    for images, labels in loader:\n",
    "        images = Variable(images)\n",
    "        labels = Variable(labels)\n",
    "        if torch.cuda.is_available() and use_cuda:\n",
    "            images = images.cuda()\n",
    "            labels = labels.cuda()\n",
    "        outputs = cnn(images)\n",
    "        _, predicted = torch.max(outputs.data, 1)\n",
    "        total += labels.size(0)\n",
    "        correct += (predicted == labels.data).sum()\n",
    "    return criterion(outputs, labels), correct/total\n",
    "    \n",
    "    \n",
    "    \n",
    "def train(model, opt, train_loader, test_loader, n_epochs, print_mode=True):\n",
    "    \"\"\"\n",
    "    Performs training of the model and prints progress\n",
    "    \n",
    "    Input:\n",
    "    model: instance of model (example defined above)\n",
    "    opt: instance of optimizer (defined above)\n",
    "    train_loader: instance of DataLoader\n",
    "    test_loader: instance of DataLoader (for evaluation)\n",
    "    n_epochs: int\n",
    "    \n",
    "    Returns:\n",
    "    4 lists: train_log, train_acc_log, val_log, val_acc_log\n",
    "    with corresponding metrics per epoch\n",
    "    \"\"\"\n",
    "    train_log, train_acc_log = [], []\n",
    "    val_log, val_acc_log = [], []\n",
    "\n",
    "    for epoch in range(n_epochs):\n",
    "        train_epoch(model, opt, train_loader)\n",
    "        train_loss, train_acc = evaluate_loss_acc(train_loader, model)\n",
    "        val_loss, val_acc = evaluate_loss_acc(test_loader, model)\n",
    "\n",
    "        train_log.append(train_loss)\n",
    "        train_acc_log.append(train_acc)\n",
    "\n",
    "        val_log.append(val_loss)\n",
    "        val_acc_log.append(val_acc)\n",
    "\n",
    "        if print_mode is True:\n",
    "            print (('Epoch [%d/%d], Loss (train/test): %.4f/%.4f,'+\\\n",
    "                   ' Acc (train/test): %.4f/%.4f' )\n",
    "                       %(epoch+1, n_epochs, \\\n",
    "                         train_loss, val_loss, train_acc, val_acc))\n",
    "            \n",
    "    return train_log, train_acc_log, val_log, val_acc_log"
   ]
  },
  {
   "cell_type": "markdown",
   "metadata": {
    "colab_type": "text",
    "id": "7BJhkCoHsoxR"
   },
   "source": [
    "Обучите нейронную сеть, используя определенные функции. Установите learning_rate=0.001, число эпох - 20. В качестве test_loader используйте валидационную выборку."
   ]
  },
  {
   "cell_type": "code",
   "execution_count": 0,
   "metadata": {
    "colab": {
     "autoexec": {
      "startup": false,
      "wait_interval": 0
     }
    },
    "colab_type": "code",
    "collapsed": true,
    "id": "wbGPo7JqwhKx"
   },
   "outputs": [],
   "source": [
    "if torch.cuda.is_available() and use_cuda:\n",
    "    cnn.cuda()"
   ]
  },
  {
   "cell_type": "code",
   "execution_count": 64,
   "metadata": {
    "colab": {
     "autoexec": {
      "startup": false,
      "wait_interval": 0
     },
     "base_uri": "https://localhost:8080/",
     "height": 353,
     "output_extras": [
      {
       "item_id": 20
      }
     ]
    },
    "colab_type": "code",
    "executionInfo": {
     "elapsed": 46452,
     "status": "ok",
     "timestamp": 1522710159350,
     "user": {
      "displayName": "Глеб С",
      "photoUrl": "https://lh3.googleusercontent.com/a/default-user=s128",
      "userId": "112163620594161855780"
     },
     "user_tz": -180
    },
    "id": "ODfTZn4PsoxS",
    "outputId": "c1a67a4a-7a01-4945-e024-c9c3dd3b7629"
   },
   "outputs": [
    {
     "name": "stdout",
     "output_type": "stream",
     "text": [
      "Epoch [1/20], Loss (train/test): 0.1212/0.1886, Acc (train/test): 0.9210/0.9192\n",
      "Epoch [2/20], Loss (train/test): 0.0512/0.0818, Acc (train/test): 0.9455/0.9407\n",
      "Epoch [3/20], Loss (train/test): 0.0338/0.0384, Acc (train/test): 0.9583/0.9541\n",
      "Epoch [4/20], Loss (train/test): 0.0289/0.0291, Acc (train/test): 0.9687/0.9622\n",
      "Epoch [5/20], Loss (train/test): 0.0226/0.0174, Acc (train/test): 0.9740/0.9650\n",
      "Epoch [6/20], Loss (train/test): 0.0111/0.0095, Acc (train/test): 0.9792/0.9691\n",
      "Epoch [7/20], Loss (train/test): 0.0042/0.0059, Acc (train/test): 0.9825/0.9711\n",
      "Epoch [8/20], Loss (train/test): 0.0013/0.0048, Acc (train/test): 0.9834/0.9703\n",
      "Epoch [9/20], Loss (train/test): 0.0007/0.0051, Acc (train/test): 0.9843/0.9707\n",
      "Epoch [10/20], Loss (train/test): 0.0008/0.0057, Acc (train/test): 0.9849/0.9714\n",
      "Epoch [11/20], Loss (train/test): 0.0010/0.0030, Acc (train/test): 0.9898/0.9749\n",
      "Epoch [12/20], Loss (train/test): 0.0007/0.0023, Acc (train/test): 0.9907/0.9765\n",
      "Epoch [13/20], Loss (train/test): 0.0024/0.0023, Acc (train/test): 0.9931/0.9772\n",
      "Epoch [14/20], Loss (train/test): 0.0028/0.0044, Acc (train/test): 0.9907/0.9761\n",
      "Epoch [15/20], Loss (train/test): 0.0007/0.0050, Acc (train/test): 0.9919/0.9765\n",
      "Epoch [16/20], Loss (train/test): 0.0024/0.0117, Acc (train/test): 0.9921/0.9771\n",
      "Epoch [17/20], Loss (train/test): 0.0004/0.0276, Acc (train/test): 0.9943/0.9792\n",
      "Epoch [18/20], Loss (train/test): 0.0006/0.1357, Acc (train/test): 0.9931/0.9771\n",
      "Epoch [19/20], Loss (train/test): 0.0006/0.2267, Acc (train/test): 0.9908/0.9752\n",
      "Epoch [20/20], Loss (train/test): 0.0011/0.0133, Acc (train/test): 0.9943/0.9787\n"
     ]
    }
   ],
   "source": [
    "### your code here\n",
    "num_epochs = 20\n",
    "learning_rate = 0.001\n",
    "from torch.optim import Adam\n",
    "opt = Adam(cnn.parameters(), learning_rate)\n",
    "train_log, train_acc, val_log, val_acc_log = train(cnn, opt, train_loader, val_loader, num_epochs)"
   ]
  },
  {
   "cell_type": "markdown",
   "metadata": {
    "colab_type": "text",
    "id": "nFRZFPnNsoxV"
   },
   "source": [
    "Визуализируем результат прохождения изображения через слои. Код ниже отрисовывает сетку изображений: первый столбец - изображения цифр, следующие 6 столбцов - результаты применения фильтров к ним. Чтобы им воспользоваться, сохраните в x переменную, храняющую батч из 10 изображений, в y - результат применения первого лчоя к x."
   ]
  },
  {
   "cell_type": "code",
   "execution_count": 0,
   "metadata": {
    "colab": {
     "autoexec": {
      "startup": false,
      "wait_interval": 0
     }
    },
    "colab_type": "code",
    "collapsed": true,
    "id": "EpWvZRchxx7G"
   },
   "outputs": [],
   "source": [
    "if use_cuda:\n",
    "    cnn.cpu()"
   ]
  },
  {
   "cell_type": "code",
   "execution_count": 0,
   "metadata": {
    "colab": {
     "autoexec": {
      "startup": false,
      "wait_interval": 0
     }
    },
    "colab_type": "code",
    "collapsed": true,
    "id": "9Fc8lluEsoxV"
   },
   "outputs": [],
   "source": [
    "### your code here\n",
    "x = Variable(torch.from_numpy(X_train[:10]))\n",
    "y = cnn.conv1(x)"
   ]
  },
  {
   "cell_type": "code",
   "execution_count": 67,
   "metadata": {
    "colab": {
     "autoexec": {
      "startup": false,
      "wait_interval": 0
     },
     "base_uri": "https://localhost:8080/",
     "height": 791,
     "output_extras": [
      {
       "item_id": 1
      }
     ]
    },
    "colab_type": "code",
    "executionInfo": {
     "elapsed": 5036,
     "status": "ok",
     "timestamp": 1522710166214,
     "user": {
      "displayName": "Глеб С",
      "photoUrl": "https://lh3.googleusercontent.com/a/default-user=s128",
      "userId": "112163620594161855780"
     },
     "user_tz": -180
    },
    "id": "S34QJxKcsoxZ",
    "outputId": "1dc11d43-7fe0-4c5f-f829-f539f2d44d87"
   },
   "outputs": [
    {
     "data": {
      "image/png": "[encoded data removed]",
      "text/plain": [
       "<matplotlib.figure.Figure at 0x7f138953c748>"
      ]
     },
     "metadata": {
      "tags": []
     },
     "output_type": "display_data"
    }
   ],
   "source": [
    "plt.figure(figsize=(15, 15))\n",
    "for im in range(10):\n",
    "    plt.subplot(11, 7, im*7+1)\n",
    "    plt.imshow(x.data[im, 0])\n",
    "    plt.axis(\"off\")\n",
    "    for i in range(6):\n",
    "        plt.subplot(11, 7, im*7+i+2)\n",
    "        plt.imshow(y.data[im, i].numpy())\n",
    "        plt.axis(\"off\")"
   ]
  },
  {
   "cell_type": "markdown",
   "metadata": {
    "colab_type": "text",
    "id": "XQFVnB6jsoxc"
   },
   "source": [
    "Затем визуализируйте результат применения второго сверточного слоя (после всех предыдущих слоев):"
   ]
  },
  {
   "cell_type": "code",
   "execution_count": 0,
   "metadata": {
    "colab": {
     "autoexec": {
      "startup": false,
      "wait_interval": 0
     }
    },
    "colab_type": "code",
    "collapsed": true,
    "id": "XXSQ6PAWsoxc"
   },
   "outputs": [],
   "source": [
    "### your code here\n",
    "y_2 = cnn.conv2(y)"
   ]
  },
  {
   "cell_type": "code",
   "execution_count": 69,
   "metadata": {
    "colab": {
     "autoexec": {
      "startup": false,
      "wait_interval": 0
     },
     "base_uri": "https://localhost:8080/",
     "height": 791,
     "output_extras": [
      {
       "item_id": 1
      }
     ]
    },
    "colab_type": "code",
    "executionInfo": {
     "elapsed": 4982,
     "status": "ok",
     "timestamp": 1522710172201,
     "user": {
      "displayName": "Глеб С",
      "photoUrl": "https://lh3.googleusercontent.com/a/default-user=s128",
      "userId": "112163620594161855780"
     },
     "user_tz": -180
    },
    "id": "U8ZnPombsoxf",
    "outputId": "94881283-4423-4578-9eb2-ad0a41d504eb"
   },
   "outputs": [
    {
     "data": {
      "image/png": "[encoded data removed]",
      "text/plain": [
       "<matplotlib.figure.Figure at 0x7f1389832cc0>"
      ]
     },
     "metadata": {
      "tags": []
     },
     "output_type": "display_data"
    }
   ],
   "source": [
    "plt.figure(figsize=(15, 15))\n",
    "for im in range(10):\n",
    "    plt.subplot(11, 7, im*7+1)\n",
    "    plt.imshow(x.data[im, 0])\n",
    "    plt.axis(\"off\")\n",
    "    for i in range(6):\n",
    "        plt.subplot(11, 7, im*7+i+2)\n",
    "        plt.imshow(y_2.data[im, i].numpy())\n",
    "        plt.axis(\"off\")"
   ]
  },
  {
   "cell_type": "markdown",
   "metadata": {
    "colab_type": "text",
    "id": "au3CXmjzsoxh"
   },
   "source": [
    "\n",
    "### Подбор длины шага и размера батча"
   ]
  },
  {
   "cell_type": "markdown",
   "metadata": {
    "colab_type": "text",
    "id": "3v7ztDD-soxi"
   },
   "source": [
    "Постройте графики точности (accuracy) на обучающей и валидационной выборке в зависимости от номера эпохи при разных параметрах обучения: learning rate$ \\in \\{0.0001, 0.001, 0.01\\}$, batch size $\\in \\{64, 256\\}$. \n",
    "\n",
    "Лучше всего отображать кривые для обучения на левом графике, кривые для валидации - на правом с общей осью y (plt.ylim).\n",
    "\n",
    "Как влияют длина шага и размер батча на итоговое качество?"
   ]
  },
  {
   "cell_type": "code",
   "execution_count": 0,
   "metadata": {
    "colab": {
     "autoexec": {
      "startup": false,
      "wait_interval": 0
     }
    },
    "colab_type": "code",
    "collapsed": true,
    "id": "JDcMsHSLsoxj"
   },
   "outputs": [],
   "source": [
    "### your code here\n",
    "batch_sizes = {64, 256}\n",
    "learning_rates = {0.0001, 0.001, 0.01}\n",
    "num_epochs = 20\n",
    "results = {}\n",
    "for batch_size in batch_sizes:\n",
    "    for learning_rate in learning_rates:\n",
    "        train_loader = get_loader(X_train[:15000], y_train[:15000], batch_size=batch_size)\n",
    "        val_loader = get_loader(X_train[15000:30000], y_train[15000:30000], batch_size=batch_size)\n",
    "        cnn = CNN()\n",
    "        if torch.cuda.is_available() and use_cuda:\n",
    "            cnn.cuda()\n",
    "        opt = Adam(cnn.parameters(), learning_rate)\n",
    "        train_log, train_acc_log, val_log, val_acc_log = train(cnn, opt, train_loader, val_loader, num_epochs, print_mode=False)\n",
    "        results[\"{}, {}\".format(batch_size, learning_rate)] = (train_acc_log, val_acc_log)"
   ]
  },
  {
   "cell_type": "code",
   "execution_count": 71,
   "metadata": {
    "colab": {
     "autoexec": {
      "startup": false,
      "wait_interval": 0
     },
     "base_uri": "https://localhost:8080/",
     "height": 620,
     "output_extras": [
      {
       "item_id": 1
      }
     ]
    },
    "colab_type": "code",
    "executionInfo": {
     "elapsed": 1395,
     "status": "ok",
     "timestamp": 1522710354498,
     "user": {
      "displayName": "Глеб С",
      "photoUrl": "https://lh3.googleusercontent.com/a/default-user=s128",
      "userId": "112163620594161855780"
     },
     "user_tz": -180
    },
    "id": "tjS1qMXDsoxl",
    "outputId": "af48008e-8a20-4ad6-b52a-ebad880587e3"
   },
   "outputs": [
    {
     "data": {
      "image/png": "[encoded data removed]",
      "text/plain": [
       "<matplotlib.figure.Figure at 0x7f13899e57f0>"
      ]
     },
     "metadata": {
      "tags": []
     },
     "output_type": "display_data"
    }
   ],
   "source": [
    "#plotting\n",
    "fig, ax = plt.subplots(1, 2, figsize=(20, 10))\n",
    "ax[0].set_title('train')\n",
    "ax[1].set_title('validation')\n",
    "x = list(range(1, 21))\n",
    "for i in range(len(ax)):\n",
    "    ax[i].set_xlabel('num_epochs')\n",
    "    ax[i].set_ylabel('accuracy')\n",
    "    for key in results.keys():\n",
    "        ax[i].plot(x, results[key][i])\n",
    "        ax[i].legend(results.keys())"
   ]
  },
  {
   "cell_type": "markdown",
   "metadata": {
    "colab_type": "text",
    "id": "-7FlLfp5soxn"
   },
   "source": [
    "### Изменение архитектуры"
   ]
  },
  {
   "cell_type": "markdown",
   "metadata": {
    "colab_type": "text",
    "id": "cvahrnOksoxn"
   },
   "source": [
    "Попробуйте модифицировать архитектуру нейросети: увеличить число фильтров и уменьшить число полносвязных слоев. \n",
    "\n",
    "Впишите цифры в скобки:\n",
    "* LeNet-5 классич. (6 и 16 сверток):  качество на обучении: (0.987)  качество на валидации: (0.9739)\n",
    "* Увеличение в 4 раза (24 и 64 сверток):  качество на обучении: (0.9955)  качество на валидации: (0.98)\n",
    "* Удаление полносвзяного слоя: предыдущая нейросеть с 1 полносвязным слоем: качество на обучении: (0.9939)  качество на валидации: (0.9769)"
   ]
  },
  {
   "cell_type": "code",
   "execution_count": 72,
   "metadata": {
    "colab": {
     "autoexec": {
      "startup": false,
      "wait_interval": 0
     },
     "base_uri": "https://localhost:8080/",
     "height": 353,
     "output_extras": [
      {
       "item_id": 20
      }
     ]
    },
    "colab_type": "code",
    "executionInfo": {
     "elapsed": 15425,
     "status": "ok",
     "timestamp": 1522710369947,
     "user": {
      "displayName": "Глеб С",
      "photoUrl": "https://lh3.googleusercontent.com/a/default-user=s128",
      "userId": "112163620594161855780"
     },
     "user_tz": -180
    },
    "id": "Nzfg0XTdsoxo",
    "outputId": "de39919e-60c2-443a-905b-dd990f3c39c1"
   },
   "outputs": [
    {
     "name": "stdout",
     "output_type": "stream",
     "text": [
      "Epoch [1/20], Loss (train/test): 0.4160/0.4178, Acc (train/test): 0.8552/0.8539\n",
      "Epoch [2/20], Loss (train/test): 0.2968/0.2935, Acc (train/test): 0.9063/0.9045\n",
      "Epoch [3/20], Loss (train/test): 0.2091/0.2439, Acc (train/test): 0.9259/0.9255\n",
      "Epoch [4/20], Loss (train/test): 0.1400/0.1994, Acc (train/test): 0.9452/0.9431\n",
      "Epoch [5/20], Loss (train/test): 0.1015/0.1656, Acc (train/test): 0.9552/0.9522\n",
      "Epoch [6/20], Loss (train/test): 0.0754/0.1470, Acc (train/test): 0.9609/0.9567\n",
      "Epoch [7/20], Loss (train/test): 0.0580/0.1351, Acc (train/test): 0.9639/0.9606\n",
      "Epoch [8/20], Loss (train/test): 0.0449/0.1283, Acc (train/test): 0.9674/0.9636\n",
      "Epoch [9/20], Loss (train/test): 0.0373/0.1248, Acc (train/test): 0.9697/0.9653\n",
      "Epoch [10/20], Loss (train/test): 0.0330/0.1167, Acc (train/test): 0.9715/0.9671\n",
      "Epoch [11/20], Loss (train/test): 0.0309/0.1096, Acc (train/test): 0.9731/0.9687\n",
      "Epoch [12/20], Loss (train/test): 0.0298/0.1049, Acc (train/test): 0.9734/0.9686\n",
      "Epoch [13/20], Loss (train/test): 0.0305/0.1043, Acc (train/test): 0.9725/0.9677\n",
      "Epoch [14/20], Loss (train/test): 0.0257/0.0945, Acc (train/test): 0.9741/0.9687\n",
      "Epoch [15/20], Loss (train/test): 0.0275/0.1030, Acc (train/test): 0.9723/0.9669\n",
      "Epoch [16/20], Loss (train/test): 0.0233/0.0910, Acc (train/test): 0.9729/0.9673\n",
      "Epoch [17/20], Loss (train/test): 0.0227/0.0862, Acc (train/test): 0.9729/0.9651\n",
      "Epoch [18/20], Loss (train/test): 0.0243/0.0833, Acc (train/test): 0.9721/0.9637\n",
      "Epoch [19/20], Loss (train/test): 0.0232/0.0827, Acc (train/test): 0.9725/0.9637\n",
      "Epoch [20/20], Loss (train/test): 0.0172/0.0743, Acc (train/test): 0.9787/0.9704\n"
     ]
    }
   ],
   "source": [
    "### your code here\n",
    "#LeNet-classic\n",
    "cnn = CNN(k=1)\n",
    "if torch.cuda.is_available() and use_cuda:\n",
    "    cnn.cuda()\n",
    "learning_rate = 0.001\n",
    "batch_size = 64\n",
    "num_epochs = 20\n",
    "opt = Adam(cnn.parameters(), lr=learning_rate)\n",
    "train_log, train_acc_log, val_log, val_acc_log = train(cnn, opt, train_loader, val_loader, num_epochs)"
   ]
  },
  {
   "cell_type": "code",
   "execution_count": 73,
   "metadata": {
    "colab": {
     "autoexec": {
      "startup": false,
      "wait_interval": 0
     },
     "base_uri": "https://localhost:8080/",
     "height": 353,
     "output_extras": [
      {
       "item_id": 20
      }
     ]
    },
    "colab_type": "code",
    "executionInfo": {
     "elapsed": 22946,
     "status": "ok",
     "timestamp": 1522710392977,
     "user": {
      "displayName": "Глеб С",
      "photoUrl": "https://lh3.googleusercontent.com/a/default-user=s128",
      "userId": "112163620594161855780"
     },
     "user_tz": -180
    },
    "id": "8vjoZ5zpsoxs",
    "outputId": "4643d7e3-5740-4fae-e057-91ec3829ce06"
   },
   "outputs": [
    {
     "name": "stdout",
     "output_type": "stream",
     "text": [
      "Epoch [1/20], Loss (train/test): 0.3592/0.3241, Acc (train/test): 0.8939/0.8919\n",
      "Epoch [2/20], Loss (train/test): 0.1538/0.1960, Acc (train/test): 0.9415/0.9370\n",
      "Epoch [3/20], Loss (train/test): 0.1131/0.1572, Acc (train/test): 0.9547/0.9511\n",
      "Epoch [4/20], Loss (train/test): 0.0909/0.1308, Acc (train/test): 0.9627/0.9595\n",
      "Epoch [5/20], Loss (train/test): 0.0721/0.1146, Acc (train/test): 0.9677/0.9653\n",
      "Epoch [6/20], Loss (train/test): 0.0563/0.1008, Acc (train/test): 0.9724/0.9689\n",
      "Epoch [7/20], Loss (train/test): 0.0374/0.0897, Acc (train/test): 0.9787/0.9727\n",
      "Epoch [8/20], Loss (train/test): 0.0253/0.0824, Acc (train/test): 0.9833/0.9761\n",
      "Epoch [9/20], Loss (train/test): 0.0177/0.0827, Acc (train/test): 0.9863/0.9777\n",
      "Epoch [10/20], Loss (train/test): 0.0165/0.0693, Acc (train/test): 0.9869/0.9785\n",
      "Epoch [11/20], Loss (train/test): 0.0222/0.0638, Acc (train/test): 0.9858/0.9778\n",
      "Epoch [12/20], Loss (train/test): 0.0162/0.0673, Acc (train/test): 0.9860/0.9755\n",
      "Epoch [13/20], Loss (train/test): 0.0252/0.1032, Acc (train/test): 0.9770/0.9677\n",
      "Epoch [14/20], Loss (train/test): 0.0167/0.0983, Acc (train/test): 0.9781/0.9699\n",
      "Epoch [15/20], Loss (train/test): 0.0062/0.0709, Acc (train/test): 0.9919/0.9801\n",
      "Epoch [16/20], Loss (train/test): 0.0062/0.0612, Acc (train/test): 0.9946/0.9811\n",
      "Epoch [17/20], Loss (train/test): 0.0067/0.0707, Acc (train/test): 0.9947/0.9805\n",
      "Epoch [18/20], Loss (train/test): 0.0042/0.1033, Acc (train/test): 0.9943/0.9794\n",
      "Epoch [19/20], Loss (train/test): 0.0018/0.1016, Acc (train/test): 0.9964/0.9816\n",
      "Epoch [20/20], Loss (train/test): 0.0014/0.1095, Acc (train/test): 0.9953/0.9805\n"
     ]
    }
   ],
   "source": [
    "#LeNet-4x\n",
    "cnn = CNN(k=4)\n",
    "if torch.cuda.is_available() and use_cuda:\n",
    "    cnn.cuda()\n",
    "learning_rate = 0.001\n",
    "batch_size = 64\n",
    "num_epochs = 20\n",
    "opt = Adam(cnn.parameters(), lr=learning_rate)\n",
    "train_log, train_acc_log, val_log, val_acc_log = train(cnn, opt, train_loader, val_loader, num_epochs)"
   ]
  },
  {
   "cell_type": "code",
   "execution_count": 74,
   "metadata": {
    "colab": {
     "autoexec": {
      "startup": false,
      "wait_interval": 0
     },
     "base_uri": "https://localhost:8080/",
     "height": 353,
     "output_extras": [
      {
       "item_id": 20
      }
     ]
    },
    "colab_type": "code",
    "executionInfo": {
     "elapsed": 21940,
     "status": "ok",
     "timestamp": 1522710414950,
     "user": {
      "displayName": "Глеб С",
      "photoUrl": "https://lh3.googleusercontent.com/a/default-user=s128",
      "userId": "112163620594161855780"
     },
     "user_tz": -180
    },
    "id": "FGROJj81soxw",
    "outputId": "caeb8eb6-7939-4793-b7d3-7290eda470c5"
   },
   "outputs": [
    {
     "name": "stdout",
     "output_type": "stream",
     "text": [
      "Epoch [1/20], Loss (train/test): 0.2571/0.2359, Acc (train/test): 0.9149/0.9121\n",
      "Epoch [2/20], Loss (train/test): 0.1538/0.1443, Acc (train/test): 0.9533/0.9513\n",
      "Epoch [3/20], Loss (train/test): 0.1216/0.1148, Acc (train/test): 0.9640/0.9615\n",
      "Epoch [4/20], Loss (train/test): 0.0842/0.0953, Acc (train/test): 0.9723/0.9679\n",
      "Epoch [5/20], Loss (train/test): 0.0553/0.0813, Acc (train/test): 0.9778/0.9730\n",
      "Epoch [6/20], Loss (train/test): 0.0374/0.0693, Acc (train/test): 0.9813/0.9755\n",
      "Epoch [7/20], Loss (train/test): 0.0272/0.0598, Acc (train/test): 0.9846/0.9770\n",
      "Epoch [8/20], Loss (train/test): 0.0192/0.0535, Acc (train/test): 0.9882/0.9790\n",
      "Epoch [9/20], Loss (train/test): 0.0149/0.0518, Acc (train/test): 0.9905/0.9800\n",
      "Epoch [10/20], Loss (train/test): 0.0122/0.0501, Acc (train/test): 0.9913/0.9803\n",
      "Epoch [11/20], Loss (train/test): 0.0097/0.0484, Acc (train/test): 0.9924/0.9809\n",
      "Epoch [12/20], Loss (train/test): 0.0077/0.0477, Acc (train/test): 0.9937/0.9814\n",
      "Epoch [13/20], Loss (train/test): 0.0063/0.0474, Acc (train/test): 0.9947/0.9818\n",
      "Epoch [14/20], Loss (train/test): 0.0051/0.0483, Acc (train/test): 0.9953/0.9821\n",
      "Epoch [15/20], Loss (train/test): 0.0042/0.0495, Acc (train/test): 0.9959/0.9821\n",
      "Epoch [16/20], Loss (train/test): 0.0035/0.0504, Acc (train/test): 0.9963/0.9822\n",
      "Epoch [17/20], Loss (train/test): 0.0030/0.0510, Acc (train/test): 0.9970/0.9823\n",
      "Epoch [18/20], Loss (train/test): 0.0026/0.0515, Acc (train/test): 0.9975/0.9831\n",
      "Epoch [19/20], Loss (train/test): 0.0024/0.0520, Acc (train/test): 0.9979/0.9833\n",
      "Epoch [20/20], Loss (train/test): 0.0025/0.0528, Acc (train/test): 0.9979/0.9837\n"
     ]
    }
   ],
   "source": [
    "#LeNet-one_fully_connected\n",
    "cnn = CNN(k=4, fc_one=True)\n",
    "if torch.cuda.is_available() and use_cuda:\n",
    "    cnn.cuda()\n",
    "learning_rate = 0.001\n",
    "batch_size = 64\n",
    "num_epochs = 20\n",
    "opt = Adam(cnn.parameters(), lr=learning_rate)\n",
    "train_log, train_acc_log, val_log, val_acc_log = train(cnn, opt, train_loader, val_loader, num_epochs)"
   ]
  },
  {
   "cell_type": "markdown",
   "metadata": {
    "colab_type": "text",
    "id": "b-7ukfJusoxy"
   },
   "source": [
    "Выберите длину шага, размер батча и архитектуру по валидационной выборке, обучите нейросеть на полной обучающей выборке и выведите качество на контрольной выборке. Хуже ли оно, чем на валидационной выборке?"
   ]
  },
  {
   "cell_type": "code",
   "execution_count": 75,
   "metadata": {
    "colab": {
     "autoexec": {
      "startup": false,
      "wait_interval": 0
     },
     "base_uri": "https://localhost:8080/",
     "height": 353,
     "output_extras": [
      {
       "item_id": 20
      }
     ]
    },
    "colab_type": "code",
    "executionInfo": {
     "elapsed": 153914,
     "status": "ok",
     "timestamp": 1522710568926,
     "user": {
      "displayName": "Глеб С",
      "photoUrl": "https://lh3.googleusercontent.com/a/default-user=s128",
      "userId": "112163620594161855780"
     },
     "user_tz": -180
    },
    "id": "GkxTtVTcsoxz",
    "outputId": "df4011cf-6399-4611-b9d7-26a86bca778e"
   },
   "outputs": [
    {
     "name": "stdout",
     "output_type": "stream",
     "text": [
      "Epoch [1/20], Loss (train/test): 0.0894/0.0045, Acc (train/test): 0.9831/0.9846\n",
      "Epoch [2/20], Loss (train/test): 0.0468/0.0010, Acc (train/test): 0.9873/0.9865\n",
      "Epoch [3/20], Loss (train/test): 0.0188/0.0003, Acc (train/test): 0.9909/0.9886\n",
      "Epoch [4/20], Loss (train/test): 0.0068/0.0012, Acc (train/test): 0.9940/0.9904\n",
      "Epoch [5/20], Loss (train/test): 0.0071/0.0003, Acc (train/test): 0.9938/0.9900\n",
      "Epoch [6/20], Loss (train/test): 0.0052/0.0002, Acc (train/test): 0.9955/0.9906\n",
      "Epoch [7/20], Loss (train/test): 0.0029/0.0001, Acc (train/test): 0.9940/0.9896\n",
      "Epoch [8/20], Loss (train/test): 0.0016/0.0002, Acc (train/test): 0.9944/0.9909\n",
      "Epoch [9/20], Loss (train/test): 0.0020/0.0000, Acc (train/test): 0.9964/0.9923\n",
      "Epoch [10/20], Loss (train/test): 0.0003/0.0001, Acc (train/test): 0.9968/0.9910\n",
      "Epoch [11/20], Loss (train/test): 0.0000/0.0001, Acc (train/test): 0.9973/0.9932\n",
      "Epoch [12/20], Loss (train/test): 0.0000/0.0000, Acc (train/test): 0.9976/0.9907\n",
      "Epoch [13/20], Loss (train/test): 0.0017/0.0000, Acc (train/test): 0.9949/0.9903\n",
      "Epoch [14/20], Loss (train/test): 0.0051/0.0000, Acc (train/test): 0.9974/0.9921\n",
      "Epoch [15/20], Loss (train/test): 0.0000/0.0000, Acc (train/test): 0.9986/0.9923\n",
      "Epoch [16/20], Loss (train/test): 0.0001/0.0000, Acc (train/test): 0.9972/0.9903\n",
      "Epoch [17/20], Loss (train/test): 0.0001/0.0000, Acc (train/test): 0.9980/0.9923\n",
      "Epoch [18/20], Loss (train/test): 0.0002/0.0000, Acc (train/test): 0.9961/0.9885\n",
      "Epoch [19/20], Loss (train/test): 0.0000/0.0000, Acc (train/test): 0.9958/0.9885\n",
      "Epoch [20/20], Loss (train/test): 0.0000/0.0000, Acc (train/test): 0.9979/0.9911\n"
     ]
    }
   ],
   "source": [
    "cnn = CNN(k=4)\n",
    "if torch.cuda.is_available() and use_cuda:\n",
    "    cnn.cuda()\n",
    "learning_rate = 0.001\n",
    "batch_size = 64\n",
    "num_epochs = 20\n",
    "opt = Adam(cnn.parameters(), lr=learning_rate)\n",
    "train_log, train_acc_log, val_log, val_acc_log = train(cnn, opt, train_loader_full, test_loader, num_epochs)"
   ]
  },
  {
   "cell_type": "markdown",
   "metadata": {
    "colab_type": "text",
    "id": "RfrqH-mLsox3"
   },
   "source": [
    "### Перенесение признаков на Fashion MNIST"
   ]
  },
  {
   "cell_type": "markdown",
   "metadata": {
    "colab_type": "text",
    "id": "13UWU5aIsox4"
   },
   "source": [
    "[Fashion MNIST](https://www.kaggle.com/zalando-research/fashionmnist) - это датасет, аналогичный MNIST, но с изображениями элементов одежды вместо цифр. На нем также предполагается решать задачу классификации на 10 классов. Ясно, что мы можем обучить нейросеть аналогично MNIST. Но интересно исследовать, как \"сверточная\" часть обученной на MNIST нейросети может быть использована на новых, аналогичных данных. \n",
    "\n",
    "Скачайте данные по [ссылке](https://www.kaggle.com/zalando-research/fashionmnist/data) и загрузите с помощью pandas:"
   ]
  },
  {
   "cell_type": "code",
   "execution_count": 0,
   "metadata": {
    "colab": {
     "autoexec": {
      "startup": false,
      "wait_interval": 0
     }
    },
    "colab_type": "code",
    "collapsed": true,
    "id": "e2TvCAbJsox4"
   },
   "outputs": [],
   "source": [
    "import pandas as pd"
   ]
  },
  {
   "cell_type": "code",
   "execution_count": 77,
   "metadata": {
    "colab": {
     "autoexec": {
      "startup": false,
      "wait_interval": 0
     },
     "base_uri": "https://localhost:8080/",
     "height": 39,
     "output_extras": [
      {
       "item_id": 1
      }
     ],
     "resources": {
      "http://localhost:8080/nbextensions/google.colab/files.js": {
       "data": "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",
       "headers": [
        [
         "content-type",
         "application/javascript"
        ]
       ],
       "ok": true,
       "status": 200,
       "status_text": ""
      }
     }
    },
    "colab_type": "code",
    "executionInfo": {
     "elapsed": 26179,
     "status": "ok",
     "timestamp": 1522710595859,
     "user": {
      "displayName": "Глеб С",
      "photoUrl": "https://lh3.googleusercontent.com/a/default-user=s128",
      "userId": "112163620594161855780"
     },
     "user_tz": -180
    },
    "id": "vvMc93y13TYf",
    "outputId": "03dd3633-ca71-4695-8e7b-49697fc97afb"
   },
   "outputs": [
    {
     "data": {
      "text/html": [
       "\n",
       "     <input type=\"file\" id=\"files-940895cb-1df3-4fb5-b2d8-f403d4fe5295\" name=\"files[]\" multiple disabled />\n",
       "     <output id=\"result-940895cb-1df3-4fb5-b2d8-f403d4fe5295\">\n",
       "      Upload widget is only available when the cell has been executed in the\n",
       "      current browser session. Please rerun this cell to enable.\n",
       "      </output>\n",
       "      <script src=\"/nbextensions/google.colab/files.js\"></script> "
      ],
      "text/plain": [
       "<IPython.core.display.HTML object>"
      ]
     },
     "metadata": {
      "tags": []
     },
     "output_type": "display_data"
    }
   ],
   "source": [
    "if in_google_collab:\n",
    "    from google.colab import files\n",
    "    uploaded = files.upload()"
   ]
  },
  {
   "cell_type": "code",
   "execution_count": 0,
   "metadata": {
    "colab": {
     "autoexec": {
      "startup": false,
      "wait_interval": 0
     }
    },
    "colab_type": "code",
    "collapsed": true,
    "id": "xxiGbDQusox7"
   },
   "outputs": [],
   "source": [
    "fm_train = pd.read_csv(\"fashion-mnist_train.csv\")\n",
    "fm_test = pd.read_csv(\"fashion-mnist_test.csv\")"
   ]
  },
  {
   "cell_type": "code",
   "execution_count": 0,
   "metadata": {
    "colab": {
     "autoexec": {
      "startup": false,
      "wait_interval": 0
     }
    },
    "colab_type": "code",
    "collapsed": true,
    "id": "KtjTiBQssox-"
   },
   "outputs": [],
   "source": [
    "fm_y_train = fm_train[\"label\"].values\n",
    "fm_X_train = fm_train[fm_train.columns[1:]].values.reshape(-1, 1, 28, 28)\n",
    "fm_y_test = fm_test[\"label\"].values\n",
    "fm_X_test = fm_test[fm_train.columns[1:]].values.reshape(-1, 1, 28, 28)"
   ]
  },
  {
   "cell_type": "markdown",
   "metadata": {
    "colab_type": "text",
    "id": "kMYJBKmUsoyA"
   },
   "source": [
    "Выберите любую архитектуру из обученных в предыдущем разделе и попробуйте три способа решения задачи классификации Fashion MNIST:\n",
    "* обучение нейросети \"с нуля\";\n",
    "* обучение всех слоев нейросети, но веса сверточных слоев иниициализируются обученными на MNIST, а полносвязные слои - случайно;\n",
    "* фиксирование сверточных слоев, обученных на MNIST, и обучение полносвязных слоев.\n",
    "\n",
    "Велика ли разница в полученном качестве?"
   ]
  },
  {
   "cell_type": "code",
   "execution_count": null,
   "metadata": {
    "colab": {
     "autoexec": {
      "startup": false,
      "wait_interval": 0
     },
     "base_uri": "https://localhost:8080/",
     "height": 353,
     "output_extras": [
      {
       "item_id": 20
      }
     ]
    },
    "colab_type": "code",
    "executionInfo": {
     "elapsed": 114118,
     "status": "ok",
     "timestamp": 1522710719552,
     "user": {
      "displayName": "Глеб С",
      "photoUrl": "https://lh3.googleusercontent.com/a/default-user=s128",
      "userId": "112163620594161855780"
     },
     "user_tz": -180
    },
    "id": "kO8rmtb2soyB",
    "outputId": "acbd3272-9f4d-4cf7-b580-d0faea4a0da4"
   },
   "outputs": [],
   "source": [
    "### your code here\n",
    "### с нуля\n",
    "use_cuda=True\n",
    "cnn_0 = CNN(k=4)\n",
    "if torch.cuda.is_available() and use_cuda:\n",
    "    cnn_0.cuda()\n",
    "learning_rate = 0.001\n",
    "batch_size = 64\n",
    "num_epochs = 20\n",
    "train_loader = get_loader(fm_X_train, fm_y_train, batch_size=batch_size)\n",
    "test_loader = get_loader(fm_X_test, fm_y_test, batch_size=batch_size)\n",
    "opt = Adam(cnn_0.parameters(), lr=learning_rate)\n",
    "train_log, train_acc_log, val_log, val_acc_log = train(cnn_0, opt, train_loader, test_loader, num_epochs)"
   ]
  },
  {
   "cell_type": "code",
   "execution_count": null,
   "metadata": {
    "colab": {
     "autoexec": {
      "startup": false,
      "wait_interval": 0
     },
     "base_uri": "https://localhost:8080/",
     "height": 353,
     "output_extras": [
      {
       "item_id": 20
      }
     ]
    },
    "colab_type": "code",
    "executionInfo": {
     "elapsed": 115719,
     "status": "ok",
     "timestamp": 1522710835365,
     "user": {
      "displayName": "Глеб С",
      "photoUrl": "https://lh3.googleusercontent.com/a/default-user=s128",
      "userId": "112163620594161855780"
     },
     "user_tz": -180
    },
    "id": "XWAqQPIKsoyD",
    "outputId": "48774c4a-11da-4eda-8665-7c5da1b4f494"
   },
   "outputs": [],
   "source": [
    "### веса, обученные на мнист\n",
    "from copy import deepcopy\n",
    "cnn_1 = deepcopy(cnn)\n",
    "learning_rate = 0.001\n",
    "batch_size = 64\n",
    "num_epochs = 20\n",
    "for layer in cnn_1.modules():\n",
    "    if isinstance(layer, nn.Linear):\n",
    "        layer.weight.data = torch.randn(layer.weight.data.shape)*0.00001\n",
    "        layer.bias.data = torch.randn(layer.bias.data.shape)*0.00001\n",
    "opt = Adam(cnn_1.parameters(), lr=learning_rate)\n",
    "train_loader = get_loader(fm_X_train, fm_y_train)\n",
    "test_loader = get_loader(fm_X_test, fm_y_test)\n",
    "train_log, train_acc_log, val_log, val_acc_log = train(cnn_1, opt, train_loader, test_loader, num_epochs)"
   ]
  },
  {
   "cell_type": "code",
   "execution_count": null,
   "metadata": {
    "colab": {
     "autoexec": {
      "startup": false,
      "wait_interval": 0
     },
     "base_uri": "https://localhost:8080/",
     "height": 353,
     "output_extras": [
      {
       "item_id": 20
      }
     ]
    },
    "colab_type": "code",
    "executionInfo": {
     "elapsed": 115796,
     "status": "ok",
     "timestamp": 1522711105106,
     "user": {
      "displayName": "Глеб С",
      "photoUrl": "https://lh3.googleusercontent.com/a/default-user=s128",
      "userId": "112163620594161855780"
     },
     "user_tz": -180
    },
    "id": "EWnrcMMzsoyF",
    "outputId": "39af5935-8a85-4979-a1aa-13640982da19"
   },
   "outputs": [],
   "source": [
    "#фиксирование сверточных слоев\n",
    "from copy import deepcopy\n",
    "cnn_2 = deepcopy(cnn)\n",
    "learning_rate = 0.001\n",
    "batch_size = 64\n",
    "num_epochs = 20\n",
    "for layer in cnn_1.modules():\n",
    "    if isinstance(layer, nn.Linear):\n",
    "        layer.weight.data = torch.randn(layer.weight.data.shape)*0.00001\n",
    "        layer.bias.data = torch.randn(layer.bias.data.shape)*0.00001\n",
    "    elif isinstance(layer, nn.Conv2d):\n",
    "          for param in layer.parameters():\n",
    "            param.requires_grad = False\n",
    "opt = Adam(cnn_2.parameters(), lr=learning_rate)\n",
    "train_loader = get_loader(fm_X_train, fm_y_train)\n",
    "test_loader = get_loader(fm_X_test, fm_y_test)\n",
    "train_log, train_acc_log, val_log, val_acc_log = train(cnn_1, opt, train_loader, test_loader, num_epochs)"
   ]
  },
  {
   "cell_type": "markdown",
   "metadata": {
    "colab": {
     "autoexec": {
      "startup": false,
      "wait_interval": 0
     }
    },
    "colab_type": "code",
    "collapsed": true,
    "id": "JaB6zM7XmLez"
   },
   "source": [
    "Разница не сильно велика"
   ]
  }
 ],
 "metadata": {
  "accelerator": "GPU",
  "colab": {
   "default_view": {},
   "name": "lab_cnn.ipynb",
   "provenance": [],
   "version": "0.3.2",
   "views": {}
  },
  "kernelspec": {
   "display_name": "Python 3",
   "language": "python",
   "name": "python3"
  },
  "language_info": {
   "codemirror_mode": {
    "name": "ipython",
    "version": 3
   },
   "file_extension": ".py",
   "mimetype": "text/x-python",
   "name": "python",
   "nbconvert_exporter": "python",
   "pygments_lexer": "ipython3",
   "version": "3.6.2"
  }
 },
 "nbformat": 4,
 "nbformat_minor": 1
}
